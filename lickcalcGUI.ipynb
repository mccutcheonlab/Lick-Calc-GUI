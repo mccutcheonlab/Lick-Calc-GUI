{
 "cells": [
  {
   "cell_type": "code",
   "execution_count": 1,
   "metadata": {},
   "outputs": [],
   "source": [
    "from tkinter import *\n",
    "from tkinter import filedialog\n",
    "from tkinter import messagebox\n",
    "#import tkinter as tk\n",
    "\n",
    "# import JM_general_functions as jmf\n",
    "# import JM_custom_figs as jmfig\n",
    "\n",
    "import os\n",
    "import string\n",
    "\n",
    "import numpy as np\n",
    "\n",
    "import matplotlib\n",
    "matplotlib.use(\"TkAgg\")\n",
    "from matplotlib.backends.backend_tkagg import FigureCanvasTkAgg, NavigationToolbar2TkAgg\n",
    "from matplotlib.figure import Figure\n",
    "import matplotlib.gridspec as gridspec"
   ]
  },
  {
   "cell_type": "code",
   "execution_count": 2,
   "metadata": {},
   "outputs": [],
   "source": [
    "class Window(Frame):\n",
    "\n",
    "    def __init__(self, master=None):\n",
    "        Frame.__init__(self, master)               \n",
    "        self.master = master\n",
    "        self.init_window()\n",
    "        \n",
    "    def init_window(self):\n",
    "        self.master.title('MedfileReader')\n",
    "        self.pack(fill=BOTH, expand=1)\n",
    "        \n",
    "#         self.filename='None'\n",
    "#         filelabel = Label(self, text=self.filename)\n",
    "#         filelabel.pack(side=TOP)\n",
    "        \n",
    "        openfileButton = Button(self, text='Load Med PC File', command=self.loadmedfile)\n",
    "        openfileButton.grid(row=0)\n",
    "        \n",
    "        analyzeButton = Button(self, text='Analyze Data', command=self.analyze)\n",
    "        analyzeButton.grid(row=1)\n",
    "        \n",
    "#         Label(self, text='Bottle 1').grid(row=2, column=1)\n",
    "#         Label(self, text='Bottle 2').grid(row=2, column=4)\n",
    " \n",
    "        Label(self, text='onset').grid(row=3)\n",
    "        Label(self, text='offset').grid(row=4)\n",
    "       "
   ]
  },
  {
   "cell_type": "code",
   "execution_count": 3,
   "metadata": {},
   "outputs": [],
   "source": [
    "    def loadmedfile(self):\n",
    "        self.filename = filedialog.askopenfilename(initialdir=currdir, title='Select a Med PC file.')\n",
    "        self.showfilename()\n",
    "        \n",
    "        try:\n",
    "            self.meddata = medfilereader(self.filename)\n",
    "        except:\n",
    "            print('Problem reading file and extracting data. File may not be properly formatted - see Help for advice.')\n",
    "            messagebox.showinfo(\"Error\", \"Problem reading file and extracting data. File may not be properly formatted - see Help for advice.\")\n",
    "            return\n",
    "        \n",
    "        self.medvars = [x for x in self.meddata if len(x)>1]\n",
    "              \n",
    "        try:\n",
    "            self.setOptionMenu()\n",
    "        except TypeError:\n",
    "            print('No valid variables to analyze (e.g. arrays with more than one value)')\n",
    "            messagebox.showinfo(\"Error\", \"No valid variables to analyze (e.g. arrays with more than one value\")\n",
    "        "
   ]
  },
  {
   "cell_type": "code",
   "execution_count": 4,
   "metadata": {},
   "outputs": [],
   "source": [
    "    def showfilename(self):\n",
    "        text = Label(self, text=self.filename)\n",
    "        text.grid(row=0, column=2)\n",
    "        "
   ]
  },
  {
   "cell_type": "code",
   "execution_count": 5,
   "metadata": {},
   "outputs": [],
   "source": [
    "    def setOptionMenu(self):\n",
    "        varlens = [len(x) for x in self.medvars]\n",
    "        OPTIONS = [x+' - '+str(y) for (x, y) in zip(list(string.ascii_lowercase), varlens)]\n",
    "       \n",
    "        self.b1onset = StringVar(self.master)\n",
    "        b1onsetBtn = OptionMenu(self, self.b1onset, *OPTIONS).grid(row=3, column=1)\n",
    "\n",
    "        self.b1offset = StringVar(self.master)\n",
    "        b1offsetBtn = OptionMenu(self, self.b1offset, *OPTIONS).grid(row=4, column=1)\n",
    "\n",
    "        self.b2onset = StringVar(self.master)\n",
    "        b2onsetBtn = OptionMenu(self, self.b2onset, *OPTIONS).grid(row=3, column=4)\n",
    "\n",
    "        self.b2offset = StringVar(self.master)\n",
    "        b2offsetBtn = OptionMenu(self, self.b2offset, *OPTIONS).grid(row=4, column=4)"
   ]
  },
  {
   "cell_type": "code",
   "execution_count": 6,
   "metadata": {},
   "outputs": [],
   "source": [
    "    def analyze(self):\n",
    "        print('Analyzing...')\n",
    "        \n",
    "        if hasattr(self, 'filename'):\n",
    "            try:\n",
    "                print(ord(self.b1onset.get()[0])-97)\n",
    "                print(self.b2onset.get())\n",
    "#                self.lickdata = jmf.lickCalc(self.meddata)\n",
    "#                self.makegraphs()\n",
    "            except:\n",
    "                print(\"Error:\", sys.exc_info()[0])\n",
    "                raise \n",
    "        else:\n",
    "            print('Select a file first')\n",
    "            \n",
    "    def makegraphs(self):\n",
    "\n",
    "        gs1 = gridspec.GridSpec(2, 2)\n",
    "        gs1.update(left=0.10, right= 0.9, wspace=0.5, hspace = 0.7)\n",
    "\n",
    "        f = Figure(figsize=(5,5), dpi=100)\n",
    "        ax = f.subplot(gs1[1, 1])\n",
    "\n",
    "#        jmfig.licklengthFig(ax, self.lickdata)\n",
    "        \n",
    "        canvas = FigureCanvasTkAgg(f, self)\n",
    "        canvas.show()\n",
    "        canvas.get_tk_widget().grid(row=3, column=1)\n",
    "\n",
    "        toolbar = NavigationToolbar2TkAgg(canvas, self)\n",
    "        toolbar.update()\n",
    "        canvas._tkcanvas.grid(row=4, column=1)"
   ]
  },
  {
   "cell_type": "code",
   "execution_count": 7,
   "metadata": {},
   "outputs": [],
   "source": [
    "def medfilereader(filename, varsToExtract = 'all',\n",
    "                  sessionToExtract = 1,\n",
    "                  verbose = False,\n",
    "                  remove_var_header = False):\n",
    "    if varsToExtract == 'all':\n",
    "        numVarsToExtract = np.arange(0,26)\n",
    "    else:\n",
    "        numVarsToExtract = [ord(x)-97 for x in varsToExtract]\n",
    "    \n",
    "    f = open(filename, 'r')\n",
    "    f.seek(0)\n",
    "    filerows = f.readlines()[8:]\n",
    "    datarows = [isnumeric(x) for x in filerows]\n",
    "    matches = [i for i,x in enumerate(datarows) if x == 0.3]\n",
    "    if sessionToExtract > len(matches):\n",
    "        print('Session ' + str(sessionToExtract) + ' does not exist.')\n",
    "    if verbose == True:\n",
    "        print('There are ' + str(len(matches)) + ' sessions in ' + filename)\n",
    "        print('Analyzing session ' + str(sessionToExtract))\n",
    "    \n",
    "    varstart = matches[sessionToExtract - 1]\n",
    "    medvars = [[] for n in range(26)]\n",
    "    \n",
    "    k = int(varstart + 27)\n",
    "    for i in range(26):\n",
    "        medvarsN = int(datarows[varstart + i + 1])\n",
    "        \n",
    "        medvars[i] = datarows[k:k + int(medvarsN)]\n",
    "        k = k + medvarsN\n",
    "        \n",
    "    if remove_var_header == True:\n",
    "        varsToReturn = [medvars[i][1:] for i in numVarsToExtract]\n",
    "    else:\n",
    "        varsToReturn = [medvars[i] for i in numVarsToExtract]\n",
    "\n",
    "    if np.shape(varsToReturn)[0] == 1:\n",
    "        varsToReturn = varsToReturn[0]\n",
    "    return varsToReturn"
   ]
  },
  {
   "cell_type": "code",
   "execution_count": 8,
   "metadata": {},
   "outputs": [],
   "source": [
    "def isnumeric(s):\n",
    "    try:\n",
    "        x = float(s)\n",
    "        return x\n",
    "    except ValueError:\n",
    "        return float('nan')"
   ]
  },
  {
   "cell_type": "code",
   "execution_count": 9,
   "metadata": {},
   "outputs": [],
   "source": [
    "root = Tk()\n",
    "\n",
    "root.geometry('800x800')\n",
    "currdir = os.getcwd()\n",
    "currdir = 'C:\\\\Users\\\\jaimeHP\\\\Dropbox\\\\Python\\\\cas9\\\\cas9_medfiles\\\\'\n"
   ]
  },
  {
   "cell_type": "code",
   "execution_count": 10,
   "metadata": {},
   "outputs": [
    {
     "ename": "AttributeError",
     "evalue": "'Window' object has no attribute 'loadmedfile'",
     "output_type": "error",
     "traceback": [
      "\u001b[0;31m---------------------------------------------------------------------------\u001b[0m",
      "\u001b[0;31mAttributeError\u001b[0m                            Traceback (most recent call last)",
      "\u001b[0;32m<ipython-input-10-8c8651610b27>\u001b[0m in \u001b[0;36m<module>\u001b[0;34m()\u001b[0m\n\u001b[0;32m----> 1\u001b[0;31m \u001b[0mapp\u001b[0m \u001b[1;33m=\u001b[0m \u001b[0mWindow\u001b[0m\u001b[1;33m(\u001b[0m\u001b[0mroot\u001b[0m\u001b[1;33m)\u001b[0m\u001b[1;33m\u001b[0m\u001b[0m\n\u001b[0m\u001b[1;32m      2\u001b[0m \u001b[0mroot\u001b[0m\u001b[1;33m.\u001b[0m\u001b[0mmainloop\u001b[0m\u001b[1;33m(\u001b[0m\u001b[1;33m)\u001b[0m\u001b[1;33m\u001b[0m\u001b[0m\n",
      "\u001b[0;32m<ipython-input-2-85b25878900e>\u001b[0m in \u001b[0;36m__init__\u001b[0;34m(self, master)\u001b[0m\n\u001b[1;32m      4\u001b[0m         \u001b[0mFrame\u001b[0m\u001b[1;33m.\u001b[0m\u001b[0m__init__\u001b[0m\u001b[1;33m(\u001b[0m\u001b[0mself\u001b[0m\u001b[1;33m,\u001b[0m \u001b[0mmaster\u001b[0m\u001b[1;33m)\u001b[0m\u001b[1;33m\u001b[0m\u001b[0m\n\u001b[1;32m      5\u001b[0m         \u001b[0mself\u001b[0m\u001b[1;33m.\u001b[0m\u001b[0mmaster\u001b[0m \u001b[1;33m=\u001b[0m \u001b[0mmaster\u001b[0m\u001b[1;33m\u001b[0m\u001b[0m\n\u001b[0;32m----> 6\u001b[0;31m         \u001b[0mself\u001b[0m\u001b[1;33m.\u001b[0m\u001b[0minit_window\u001b[0m\u001b[1;33m(\u001b[0m\u001b[1;33m)\u001b[0m\u001b[1;33m\u001b[0m\u001b[0m\n\u001b[0m\u001b[1;32m      7\u001b[0m \u001b[1;33m\u001b[0m\u001b[0m\n\u001b[1;32m      8\u001b[0m     \u001b[1;32mdef\u001b[0m \u001b[0minit_window\u001b[0m\u001b[1;33m(\u001b[0m\u001b[0mself\u001b[0m\u001b[1;33m)\u001b[0m\u001b[1;33m:\u001b[0m\u001b[1;33m\u001b[0m\u001b[0m\n",
      "\u001b[0;32m<ipython-input-2-85b25878900e>\u001b[0m in \u001b[0;36minit_window\u001b[0;34m(self)\u001b[0m\n\u001b[1;32m     14\u001b[0m \u001b[1;31m#         filelabel.pack(side=TOP)\u001b[0m\u001b[1;33m\u001b[0m\u001b[1;33m\u001b[0m\u001b[0m\n\u001b[1;32m     15\u001b[0m \u001b[1;33m\u001b[0m\u001b[0m\n\u001b[0;32m---> 16\u001b[0;31m         \u001b[0mopenfileButton\u001b[0m \u001b[1;33m=\u001b[0m \u001b[0mButton\u001b[0m\u001b[1;33m(\u001b[0m\u001b[0mself\u001b[0m\u001b[1;33m,\u001b[0m \u001b[0mtext\u001b[0m\u001b[1;33m=\u001b[0m\u001b[1;34m'Load Med PC File'\u001b[0m\u001b[1;33m,\u001b[0m \u001b[0mcommand\u001b[0m\u001b[1;33m=\u001b[0m\u001b[0mself\u001b[0m\u001b[1;33m.\u001b[0m\u001b[0mloadmedfile\u001b[0m\u001b[1;33m)\u001b[0m\u001b[1;33m\u001b[0m\u001b[0m\n\u001b[0m\u001b[1;32m     17\u001b[0m         \u001b[0mopenfileButton\u001b[0m\u001b[1;33m.\u001b[0m\u001b[0mgrid\u001b[0m\u001b[1;33m(\u001b[0m\u001b[0mrow\u001b[0m\u001b[1;33m=\u001b[0m\u001b[1;36m0\u001b[0m\u001b[1;33m)\u001b[0m\u001b[1;33m\u001b[0m\u001b[0m\n\u001b[1;32m     18\u001b[0m \u001b[1;33m\u001b[0m\u001b[0m\n",
      "\u001b[0;31mAttributeError\u001b[0m: 'Window' object has no attribute 'loadmedfile'"
     ]
    }
   ],
   "source": [
    "app = Window(root)\n",
    "root.mainloop()"
   ]
  },
  {
   "cell_type": "code",
   "execution_count": null,
   "metadata": {},
   "outputs": [],
   "source": []
  }
 ],
 "metadata": {
  "kernelspec": {
   "display_name": "Python 3",
   "language": "python",
   "name": "python3"
  },
  "language_info": {
   "codemirror_mode": {
    "name": "ipython",
    "version": 3
   },
   "file_extension": ".py",
   "mimetype": "text/x-python",
   "name": "python",
   "nbconvert_exporter": "python",
   "pygments_lexer": "ipython3",
   "version": "3.6.0"
  }
 },
 "nbformat": 4,
 "nbformat_minor": 2
}
